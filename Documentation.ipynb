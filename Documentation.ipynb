{
 "cells": [
  {
   "cell_type": "markdown",
   "metadata": {},
   "source": [
    "\n"
   ]
  },
  {
   "cell_type": "markdown",
   "metadata": {},
   "source": [
    "##Competitive ligand binding\n",
    "\n",
    "###[```models.SingleSiteCompetitor```](https://github.com/harmslab/pytc/blob/master/pytc/models.py)\n",
    "\n",
    "This model was described by Sigurskjold BW (2000) *Analytical Biochemistry* 277(2):260-266 [link](http://dx.doi.org/10.1006/abio.1999.4402)\n",
    "\n",
    "\n",
    "Scheme is for competitive binding of $A$ and $B$ to protein $P$:\n",
    "\n",
    "$$A + P \\rightleftharpoons PA$$\n",
    "$$B + P \\rightleftharpoons PB$$\n",
    "\n",
    "To describe this, we use the following equilibrium constants:\n",
    "\n",
    "$$K_{A} = \\frac{[PA]}{[P]_{free}[A]_{free}}$$\n",
    "\n",
    "$$K_{B} = \\frac{[PB]}{[P]_{free}[B]_{free}}$$\n",
    "\n",
    "\n",
    "### Determine the relative populations of species in solution\n",
    "\n",
    "We can only manipulate $[P]_{total}$, $[A]_{total}$ and $[B]_{total}$ experimentally, so our first goal is to determine the concentrations of species such as $[PA]$ which we cannot manipulate or directly observe.  Start by writing concentrations as mole fractions:\n",
    "\n",
    "$$x_{P} = \\frac{[P]_{free}}{[P]_{total}}$$\n",
    "\n",
    "$$x_{PA} = \\frac{[PA]}{[P]_{total}}$$\n",
    "\n",
    "$$x_{PB} = \\frac{[PB]}{[P]_{total}}$$\n",
    "\n",
    "$$x_{P} + x_{PA} + x_{PB} = 1$$\n",
    "\n",
    "A root of the binding polynomial has been found that describes $x_{P}$ only in terms of $K_{A}$, $K_{B}$, $[A]_{total}$, $[B]_{total}$ and $[P]_{total}$.  Start with some convenient definitions:\n",
    "\n",
    "$$c_{A} = K_{A}[P]_{total}$$\n",
    "\n",
    "$$c_{B} = K_{B}[P]_{total}$$\n",
    "\n",
    "$$r_{A} = \\frac{[A]_{total}}{P_{total}}$$\n",
    "\n",
    "$$r_{B} = \\frac{[B]_{total}}{P_{total}}$$\n",
    "\n",
    "The value of $x_{P}$ is given by:\n",
    "\n",
    "$$\\alpha = \\frac{1}{c_{A}} + \\frac{1}{c_{B}} + r_{A} + r_{B} - 1$$\n",
    "\n",
    "$$\\beta = \\frac{r_{A}-1}{c_{B}} + \\frac{r_{B} - 1}{c_{A}} + \\frac{1}{c_{A}c_{B}}$$\n",
    "\n",
    "$$\\gamma = -\\frac{1}{c_{A}c_{B}}$$\n",
    "\n",
    "$$\\theta = arccos \\Big ( \\frac{-2\\alpha^{3} + 9\\alpha \\beta -27\\gamma}{2\\sqrt{(\\alpha^2 - 3 \\beta)^3}} \\Big) $$\n",
    "\n",
    "$$x_{P} = \\frac{2\\sqrt{\\alpha^2 - 3 \\beta}\\ cos(\\theta/3) - \\alpha}{3}$$\n",
    "\n",
    "Once this is known $x_{PA}$ and $x_{PB}$ are uniquely determined by:\n",
    "\n",
    "$$x_{PA} = \\frac{r_{A} x_{P}}{1/C_{A} + x_{P}}$$\n",
    "\n",
    "$$x_{PB} = \\frac{r_{B} x_{P}}{1/C_{B} + x_{P}}$$\n",
    "\n",
    "###Relate to heats and enthalpies\n",
    "\n",
    "In the paper, they describe the change in heat for each shot $i$ ($\\Delta Q_{i}$) as:\n",
    "\n",
    "$$\\Delta Q_{i} = V_{0}P_{total}(\\Delta H_{A}(x_{PA,i} - f_{i}x_{PA,i-1}) + \\Delta H_{B}(x_{PB,i} - f_{i}x_{PB,i-1})) + q_{dilution},$$\n",
    "\n",
    "where $V_{0}$ is the volume of the cell, $\\Delta H_{A}$ is the enthalpy for binding ligand $A$, $\\Delta H_{B}$ is the enthalpy for binding ligand $B$. $f_{i}$ is the dilution factor for each injection: \n",
    "\n",
    "$$f_{i} = exp(-V_{i}/V_{0}),$$\n",
    "\n",
    "where $V_{0}$ is the volume of the cell and $V_{i}$ is the volume of the $i$-th injection.\n",
    "\n",
    "`pytc` calculates $x_{PA,i}$ and friends for the entire titration, correcting for dilution.  This means the $f_{i}$ term is superfluous.  Thus, heats are related by:\n",
    "\n",
    "$$\\Delta Q_{i} = V_{0}P_{total,i}(\\Delta H_{A}(x_{PA,i} - x_{PA,i-1}) + \\Delta H_{B}(x_{PB,i} - x_{PB,i-1})) + q_{dilution}.$$\n",
    "\n",
    "Note that $V_{0}$ is held constant (it is the cell volume) as only that volume is detected, not the neck of the cell.\n",
    "\n",
    "\n"
   ]
  },
  {
   "cell_type": "markdown",
   "metadata": {},
   "source": [
    "$$P = \\prod_{i=1}^{N} \\beta_{i}"
   ]
  }
 ],
 "metadata": {
  "kernelspec": {
   "display_name": "Python 3",
   "language": "python",
   "name": "python3"
  },
  "language_info": {
   "codemirror_mode": {
    "name": "ipython",
    "version": 3
   },
   "file_extension": ".py",
   "mimetype": "text/x-python",
   "name": "python",
   "nbconvert_exporter": "python",
   "pygments_lexer": "ipython3",
   "version": "3.4.3+"
  }
 },
 "nbformat": 4,
 "nbformat_minor": 0
}
