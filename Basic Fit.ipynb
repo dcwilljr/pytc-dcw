{
 "cells": [
  {
   "cell_type": "code",
   "execution_count": 2,
   "metadata": {
    "collapsed": false
   },
   "outputs": [
    {
     "name": "stdout",
     "output_type": "stream",
     "text": [
      "{'fx2': 1.5992339281090588, 'dH2': -4451.2530290676741, 'dH1': -67311.281552228305, 'K2': 263106.95425080898, 'K1': 7295.0207207253316, 'fx1': 0.24909656823357046}\n"
     ]
    },
    {
     "name": "stderr",
     "output_type": "stream",
     "text": [
      "/home/harmsm/Desktop/pytc/pytc/models.py:97: RuntimeWarning: invalid value encountered in sqrt\n",
      "  PA = (b - np.sqrt((b)**2 - 4*P*self._A_total))/2\n"
     ]
    },
    {
     "data": {
      "image/png": "[encoded data removed]",
      "text/plain": [
       "<matplotlib.figure.Figure at 0x7f17f8833e80>"
      ]
     },
     "metadata": {},
     "output_type": "display_data"
    }
   ],
   "source": [
    "# Imports\n",
    "import pytc\n",
    "%matplotlib inline\n",
    "\n",
    "# Set up the global fit with parameter guesses\n",
    "fitter = pytc.GlobalFit({\"K1\":1e6,\"dH1\":-2000,\"fx1\":1.0,\n",
    "                          \"K2\":1e6,\"dH2\":-2000,\"fx2\":1.0})\n",
    "\n",
    "# Load in an experiment\n",
    "e1 = pytc.ITCExperiment(\"test-data/hA5NCX1TESCaTCEP.DH\",pytc.models.SingleSite)\n",
    "\n",
    "# Associate the global K1 parameter with the local KA parameter, etc.\n",
    "fitter.add_experiment(e1,{\"K1\":\"KA\",\n",
    "                          \"dH1\":\"dHA\",\n",
    "                          \"fx1\":\"fx_comp\"})\n",
    "\n",
    "# Load in another experiment\n",
    "e2 = pytc.ITCExperiment(\"test-data/hA5TESCaCon.DH\",pytc.models.SingleSite)\n",
    "fitter.add_experiment(e2,{\"K2\":\"KA\",\n",
    "                          \"dH2\":\"dHA\",\n",
    "                          \"fx2\":\"fx_comp\"})\n",
    "\n",
    "# Do the global fit\n",
    "fitter.fit()\n",
    "\n",
    "# Plot the fit\n",
    "fitter.plot()\n",
    "\n",
    "# Print out the final fit parameters\n",
    "print(fitter.fit_param)"
   ]
  },
  {
   "cell_type": "code",
   "execution_count": null,
   "metadata": {
    "collapsed": true
   },
   "outputs": [],
   "source": []
  }
 ],
 "metadata": {
  "kernelspec": {
   "display_name": "Python 3",
   "language": "python",
   "name": "python3"
  },
  "language_info": {
   "codemirror_mode": {
    "name": "ipython",
    "version": 3
   },
   "file_extension": ".py",
   "mimetype": "text/x-python",
   "name": "python",
   "nbconvert_exporter": "python",
   "pygments_lexer": "ipython3",
   "version": "3.4.3+"
  }
 },
 "nbformat": 4,
 "nbformat_minor": 0
}
