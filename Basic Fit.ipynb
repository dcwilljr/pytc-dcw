{
 "cells": [
  {
   "cell_type": "code",
   "execution_count": 13,
   "metadata": {
    "collapsed": false
   },
   "outputs": [
    {
     "name": "stdout",
     "output_type": "stream",
     "text": [
      "{'K2': 28211.838029234856, 'dil1': 31572.749340571729, 'dil2': -5511.9290949967763, 'K1': 213446.25064807505, 'dH2': -5838.5754508913369, 'dH1': -4371.8605101132971, 'fx2': 1.6084561364476802, 'fx1': 1.5500857368328929}\n"
     ]
    },
    {
     "name": "stderr",
     "output_type": "stream",
     "text": [
      "/home/harmsm/Desktop/pytc/pytc/models.py:97: RuntimeWarning: invalid value encountered in sqrt\n",
      "  ST = (b - np.sqrt((b)**2 - 4*S_conc_corr*self._T_conc))/2\n"
     ]
    },
    {
     "data": {
      "image/png": "[encoded data removed]",
      "text/plain": [
       "<matplotlib.figure.Figure at 0x7f656c3db588>"
      ]
     },
     "metadata": {},
     "output_type": "display_data"
    }
   ],
   "source": [
    "# Imports\n",
    "import pytc\n",
    "%matplotlib inline\n",
    "\n",
    "# Set up the global fit with parameter guesses\n",
    "fitter = pytc.GlobalFit({\"K1\":1e6,\"dH1\":-2000,\"fx1\":1.0,\"dil1\":0.0,\n",
    "                         \"K2\":1e6,\"dH2\":-2000,\"fx2\":1.0,\"dil2\":0.0})\n",
    "\n",
    "# Load in an experiment\n",
    "e1 = pytc.ITCExperiment(\"test-data/hA5A5conTESCaTCEP.DH\",pytc.models.SingleSite)\n",
    "\n",
    "# Associate the global K1 parameter with the local KA parameter, etc.\n",
    "fitter.add_experiment(e1,{\"K1\":\"K\",\n",
    "                          \"dH1\":\"dH\",\n",
    "                          \"fx1\":\"fx_competent\",\n",
    "                          \"dil1\":\"dilution_heat\"})\n",
    "\n",
    "# Load in another experiment\n",
    "e2 = pytc.ITCExperiment(\"test-data/hA5NCX1TESCaTCEP.DH\",pytc.models.SingleSite)\n",
    "fitter.add_experiment(e2,{\"K2\":\"K\",\n",
    "                          \"dH2\":\"dH\",\n",
    "                          \"fx2\":\"fx_competent\",\n",
    "                          \"dil2\":\"dilution_heat\"})\n",
    "\n",
    "# Do the global fit\n",
    "fitter.fit()\n",
    "\n",
    "# Plot the fit\n",
    "fitter.plot()\n",
    "\n",
    "# Print out the final fit parameters\n",
    "print(fitter.fit_param)"
   ]
  },
  {
   "cell_type": "code",
   "execution_count": null,
   "metadata": {
    "collapsed": true
   },
   "outputs": [],
   "source": []
  }
 ],
 "metadata": {
  "kernelspec": {
   "display_name": "Python 3",
   "language": "python",
   "name": "python3"
  },
  "language_info": {
   "codemirror_mode": {
    "name": "ipython",
    "version": 3
   },
   "file_extension": ".py",
   "mimetype": "text/x-python",
   "name": "python",
   "nbconvert_exporter": "python",
   "pygments_lexer": "ipython3",
   "version": "3.4.3+"
  }
 },
 "nbformat": 4,
 "nbformat_minor": 0
}
