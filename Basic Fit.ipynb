{
 "cells": [
  {
   "cell_type": "code",
   "execution_count": 4,
   "metadata": {
    "collapsed": false
   },
   "outputs": [
    {
     "name": "stdout",
     "output_type": "stream",
     "text": [
      "{'beta2': -10.0, 'dH': -2000.0, 'fx2': 1.0, 'dH1': -4371.860385318957, 'K': 1000000.0, 'dilution_heat': 31572.753008689251, 'beta1': 213446.24715078718, 'dil2': 0.0, 'fx_competent': 1.5500858090044165, 'dH2': -2000.0}\n"
     ]
    },
    {
     "data": {
      "image/png": "[encoded data removed]",
      "text/plain": [
       "<matplotlib.figure.Figure at 0x7f040940b0f0>"
      ]
     },
     "metadata": {},
     "output_type": "display_data"
    }
   ],
   "source": [
    "# Imports\n",
    "import pytc\n",
    "%matplotlib inline\n",
    "\n",
    "# Set up the global fit with parameter guesses\n",
    "fitter = pytc.GlobalFit({\"beta1\":1e6,\"dH1\":-4000,\"beta2\":-10,\"dH2\":-2000,\"fx_competent\":1.0, \"dilution_heat\":0.0,\n",
    "                         \"K\":1e6,\"dH\":-2000,\"fx2\":1.0,\"dil2\":0.0})\n",
    "\n",
    "# Load in an experiment\n",
    "e1 = pytc.ITCExperiment(\"test-data/hA5A5conTESCaTCEP.DH\",pytc.models.BindingPolynomial,num_sites=1)#pytc.models.SingleSite) #pytc.models.BindingPolynomial,num_sites=1)\n",
    "\n",
    "# Associate the global K1 parameter with the local KA parameter, etc.\n",
    "fitter.add_experiment(e1) #,dilution_heat=10000.0)\n",
    "\n",
    "# Load in another experiment\n",
    "#e2 = pytc.ITCExperiment(\"test-data/hA5NCX1TESCaTCEP.DH\",pytc.models.SingleSite)\n",
    "#fitter.add_experiment(e2,{\"Kcompetitor\":\"K\",\n",
    "#                          \"dHcompetitor\":\"dH\",\n",
    "#                          \"fx2\":\"fx_competent\",\n",
    " #                         \"dil2\":\"dilution_heat\"})l l ;l nll nl;l l; l; nbl;kl; ;ll; nb;ll;l;l;l;l;l;l nll;  ll;l; blnk;  \n",
    "\n",
    "# Do the global fit\n",
    "fitter.fit()\n",
    "\n",
    "# Plot the fit\n",
    "fitter.plot()\n",
    "\n",
    "# Print out the final fit parameters\n",
    "print(fitter.fit_param)"
   ]
  },
  {
   "cell_type": "code",
   "execution_count": null,
   "metadata": {
    "collapsed": true
   },
   "outputs": [],
   "source": []
  },
  {
   "cell_type": "code",
   "execution_count": null,
   "metadata": {
    "collapsed": true
   },
   "outputs": [],
   "source": []
  }
 ],
 "metadata": {
  "kernelspec": {
   "display_name": "Python 3",
   "language": "python",
   "name": "python3"
  },
  "language_info": {
   "codemirror_mode": {
    "name": "ipython",
    "version": 3
   },
   "file_extension": ".py",
   "mimetype": "text/x-python",
   "name": "python",
   "nbconvert_exporter": "python",
   "pygments_lexer": "ipython3",
   "version": "3.4.3+"
  }
 },
 "nbformat": 4,
 "nbformat_minor": 0
}
