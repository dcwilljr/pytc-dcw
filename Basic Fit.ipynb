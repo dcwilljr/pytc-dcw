{
 "cells": [
  {
   "cell_type": "code",
   "execution_count": 1,
   "metadata": {
    "collapsed": false
   },
   "outputs": [],
   "source": [
    "import pytc\n",
    "%matplotlib inline\n",
    "\n",
    "# libraries for making pretty sliders\n",
    "#from IPython.html import widgets\n",
    "#from IPython.html.widgets import interactive\"\n",
    "#from IPython.display import display\n"
   ]
  },
  {
   "cell_type": "code",
   "execution_count": 6,
   "metadata": {
    "collapsed": false,
    "scrolled": true
   },
   "outputs": [
    {
     "name": "stdout",
     "output_type": "stream",
     "text": [
      "{'dilution_intercept': 1.0529402087854787, 'fx_competent': 1.0771734843683372, 'K': 11189.906464740801, 'dH': -5972.144816880611, 'dilution_heat': -3025.9029530949911}\n"
     ]
    },
    {
     "name": "stderr",
     "output_type": "stream",
     "text": [
      "/home/harmsm/Desktop/pytc/pytc/models/single_site.py:57: RuntimeWarning: invalid value encountered in sqrt\n",
      "  ST = (b - np.sqrt((b)**2 - 4*S_conc_corr*self._T_conc))/2\n"
     ]
    },
    {
     "data": {
      "image/png": "[encoded data removed]",
      "text/plain": [
       "<matplotlib.figure.Figure at 0x7f76e1f792b0>"
      ]
     },
     "metadata": {},
     "output_type": "display_data"
    }
   ],
   "source": [
    "\n",
    "f = pytc.GlobalFit({\"K\":1e6,\"beta1\":1e6,\"beta2\":1e6,\"beta3\":1e6,\n",
    "                    \"dH\":-4000,\"dH1\":-4000,\"dH2\":-4000,\"dH3\":1e6,\n",
    "                    \"fx_competent\":1.0,\n",
    "                    \"dilution_heat\":0.0,\n",
    "                    \"dilution_intercept\":0.0})\n",
    "\n",
    "e1 = pytc.ITCExperiment(\"test-data/blank.DH\",pytc.models.Blank)\n",
    "f.add_experiment(e1)\n",
    "\n",
    "e2 = pytc.ITCExperiment(\"test-data/real-blank-match.DH\",pytc.models.BindingPolynomial,num_sites=1) \n",
    "#f.add_experiment(e2)\n",
    "\n",
    "#e3 = pytc.ITCExperiment(\"test-data/real-blank-match.DH\",pytc.models.SingleSite)\n",
    "f.add_experiment(e3)\n",
    "\n",
    "\n",
    "f.fit()\n",
    "f.plot()\n",
    "print(f.fit_param)\n"
   ]
  },
  {
   "cell_type": "code",
   "execution_count": null,
   "metadata": {
    "collapsed": false,
    "scrolled": false
   },
   "outputs": [],
   "source": [
    "\n",
    "f = pytc.GlobalFit({\"K\":1e6,\"beta1\":1e6,\"beta2\":1e6,\"beta3\":1e6,\n",
    "                    \"dH\":-4000,\"dH1\":-4000,\"dH2\":-4000,\"dH3\":1e6,\n",
    "                    \"fx_competent\":1.0,\n",
    "                    \"dilution_heat\":0.0,\n",
    "                    \"dilution_intercept\":0.0})\n",
    "\n",
    "e1 = pytc.ITCExperiment(\"test-data/wacky-double-2.DH\",pytc.models.BindingPolynomial,num_sites=3)\n",
    "f.add_experiment(e1)\n",
    "\n",
    "#e2 = pytc.ITCExperiment(\"test-data/real-blank-match.DH\",pytc.models.BindingPolynomial,num_sites=1) \n",
    "#f.add_experiment(e2)\n",
    "\n",
    "#e3 = pytc.ITCExperiment(\"test-data/real-blank-match.DH\",pytc.models.SingleSite)\n",
    "#f.add_experiment(e3)\n",
    "\n",
    "\n",
    "f.fit()\n",
    "f.plot()\n",
    "print(f.fit_param)"
   ]
  },
  {
   "cell_type": "code",
   "execution_count": null,
   "metadata": {
    "collapsed": false
   },
   "outputs": [],
   "source": [
    "\n",
    "# Set up the global fit with parameter guesses\n",
    "fitter = pytc.GlobalFit({\"beta1\":1e6,\"dH1\":-4000,\"beta2\":-10,\"dH2\":-2000,\"fx_competent\":1.0, \"dilution_heat\":0.0,\n",
    "                         \"K\":1e6,\"dH\":-2000,\"fx2\":1.0,\"dil2\":0.0})\n",
    "\n",
    "# Load in an experiment\n",
    "#e1 = pytc.ITCExperiment(\"test-data/wacky-double-1.DH\",pytc.models.BindingPolynomial,num_sites=1)#pytc.models.SingleSite) #pytc.models.BindingPolynomial,num_sites=1)\n",
    "\n",
    "# Associate the global K1 parameter with the local KA parameter, etc.\n",
    "#fitter.add_experiment(e1) #,dilution_heat=10000.0)\n",
    "\n",
    "# Load in another experiment\n",
    "e2 = pytc.ITCExperiment(\"test-data/hA5NCX1TESCaTCEP.DH\",pytc.models.SingleSiteCompetitor)\n",
    "fitter.add_experiment(e2,{\"K\":\"K\",\n",
    "                          \"dH\":\"dH\",\n",
    "                          \"fx2\":\"fx_competent\",\n",
    "                          \"dil2\":\"dilution_heat\"})\n",
    "\n",
    "# Do the global fit\n",
    "fitter.fit()\n",
    "\n",
    "# Plot the fit\n",
    "fitter.plot()\n",
    "\n",
    "# Print out the final fit parameters\n",
    "print(fitter.fit_param)"
   ]
  },
  {
   "cell_type": "code",
   "execution_count": null,
   "metadata": {
    "collapsed": true
   },
   "outputs": [],
   "source": []
  },
  {
   "cell_type": "code",
   "execution_count": null,
   "metadata": {
    "collapsed": true
   },
   "outputs": [],
   "source": []
  },
  {
   "cell_type": "code",
   "execution_count": null,
   "metadata": {
    "collapsed": true
   },
   "outputs": [],
   "source": []
  }
 ],
 "metadata": {
  "kernelspec": {
   "display_name": "Python 3",
   "language": "python",
   "name": "python3"
  },
  "language_info": {
   "codemirror_mode": {
    "name": "ipython",
    "version": 3
   },
   "file_extension": ".py",
   "mimetype": "text/x-python",
   "name": "python",
   "nbconvert_exporter": "python",
   "pygments_lexer": "ipython3",
   "version": "3.4.3+"
  }
 },
 "nbformat": 4,
 "nbformat_minor": 0
}
