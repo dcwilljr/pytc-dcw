{
 "cells": [
  {
   "cell_type": "code",
   "execution_count": 1,
   "metadata": {
    "collapsed": false
   },
   "outputs": [
    {
     "name": "stderr",
     "output_type": "stream",
     "text": [
      ":0: FutureWarning: IPython widgets are experimental and may change in the future.\n",
      "WARNING: \"DropdownWidget\" is deprecated, please use \"Dropdown\" instead.\n"
     ]
    }
   ],
   "source": [
    "import pytc\n",
    "%matplotlib inline\n",
    "\n",
    "# libraries for making pretty sliders\n",
    "from IPython.html import widgets\n",
    "from IPython.html.widgets import interactive\n",
    "from IPython.display import display\n",
    "\n",
    "class MainInterface:\n",
    "\n",
    "    def __init__(self):\n",
    "        \"\"\"\n",
    "        \"\"\"\n",
    "\n",
    "        self._models = {}\n",
    "\n",
    "        self._populate_model_list()\n",
    "        self._display_widgets()\n",
    "\n",
    "    def _populate_model_list(self):\n",
    "        \"\"\"\n",
    "        \"\"\"\n",
    "\n",
    "        for k in pytc.models.__dict__.keys():\n",
    "            try:\n",
    "                if pytc.models.__dict__[k].__bases__[0] == pytc.models.base.ITCModel:\n",
    "                    self._models[k] = pytc.models.__dict__[k]\n",
    "            except AttributeError:\n",
    "                pass\n",
    "  \n",
    "        self._model_select_widget = widgets.DropdownWidget()\n",
    "        self._model_select_widget.options = self._models\n",
    "        self._model_select_interactive = widgets.interactive(self._select_model,\n",
    "                                                             m=self._model_select_widget)\n",
    "\n",
    "    def _display_widgets(self):\n",
    "        \"\"\" \n",
    "        \"\"\" \n",
    "\n",
    "        display(self._model_select_widget)\n",
    "    \n",
    "\n",
    "    def _select_model(self,m):\n",
    "\n",
    "        print(m.param_name)\n",
    "\n",
    "M = MainInterface()\n",
    "\n"
   ]
  },
  {
   "cell_type": "code",
   "execution_count": 3,
   "metadata": {
    "collapsed": false
   },
   "outputs": [
    {
     "name": "stdout",
     "output_type": "stream",
     "text": [
      "CHI\n"
     ]
    }
   ],
   "source": [
    "from IPython.html import widgets\n",
    "from IPython.display import display\n",
    "\n",
    "geo = {'USA':   ('CHI','NYC'),\n",
    "       'Russia':('MOW','LED')}\n",
    "\n",
    "def print_city(city):\n",
    "    print(city)\n",
    "\n",
    "def select_city(cities):\n",
    "    cityW.options = cities\n",
    "\n",
    "\n",
    "scW = widgets.DropdownWidget()\n",
    "scW.options = geo\n",
    "\n",
    "cityW = widgets.Select()\n",
    "cityW.options = scW.value\n",
    "\n",
    "i = widgets.interactive(select_city,cities=scW)\n",
    "j = widgets.interactive(print_city,  city=cityW)\n",
    "\n",
    "\n",
    "display(i)\n",
    "display(j)"
   ]
  },
  {
   "cell_type": "code",
   "execution_count": 6,
   "metadata": {
    "collapsed": false
   },
   "outputs": [
    {
     "name": "stdout",
     "output_type": "stream",
     "text": [
      "(['X', 'Y'], [[], ['K', 'dH', 'fx_competent']])\n",
      "{'Y': [(0, 'dilution_intercept'), (1, 'dilution_intercept')], 'X': [(0, 'dilution_heat'), (1, 'dilution_heat')]}\n",
      "{'dilution_heat': 'X', 'dilution_intercept': 'Y'}\n",
      "{'dilution_heat': 'X', 'dilution_intercept': 'Y'}\n",
      "(['X', 'Y'], [['K', 'dH', 'fx_competent']])\n"
     ]
    }
   ],
   "source": [
    "import pytc\n",
    "%matplotlib inline\n",
    "\n",
    "# libraries for making pretty sliders\n",
    "from IPython.html import widgets\n",
    "from IPython.html.widgets import interactive\n",
    "from IPython.display import display\n",
    "\n",
    "\n",
    "class Interface:\n",
    "    \n",
    "    def __init__(self,fitter):\n",
    "        \"\"\"\n",
    "        \"\"\"\n",
    "        \n",
    "        self._sliders = {}\n",
    "        self._fitter = fitter\n",
    "        self._build_interface()\n",
    "        \n",
    "    def _build_interface(self):\n",
    "        \"\"\"\n",
    "        \"\"\"\n",
    "    \n",
    "        for p in self._fitter.param_names:\n",
    "            \n",
    "            \n",
    "            g = abs(self._fitter._param_guesses[p])\n",
    "            \n",
    "            if g == 0:\n",
    "                g_min = -1\n",
    "                g_max = 1\n",
    "                g_step = 1/100\n",
    "            else:\n",
    "                g_min = -g\n",
    "                g_max = g\n",
    "                g_step = 2*abs(g)/100\n",
    "            \n",
    "            self._sliders[p] = widgets.FloatSlider(min=g_min,max=g_max,step=g_step,value=g)\n",
    "            \n",
    "        w = widgets.interactive(self._update,**self._sliders)\n",
    "                        \n",
    "        display(w)\n",
    "        \n",
    "        btn = widgets.Button(description=\"Show Fit\")\n",
    "        btn.on_click(self.get_param)\n",
    "        display(btn)\n",
    "\n",
    "    def _update(self,**kwargs):\n",
    "        \"\"\"\n",
    "        \"\"\"\n",
    "   \n",
    "        self._fitter.update_guesses(kwargs)\n",
    "        self._fitter.fit()\n",
    "        self._fitter.plot()\n",
    "        \n",
    "    def get_param(self):\n",
    "        \n",
    "        print(self._fitter.fit_param)\n",
    "        \n",
    "\n",
    "g = pytc.GlobalFit()\n",
    "\n",
    "e1 = pytc.ITCExperiment(\"test-data/blank.DH\",pytc.models.Blank)\n",
    "e2 = pytc.ITCExperiment(\"test-data/real-blank-match.DH\",pytc.models.SingleSite)\n",
    "\n",
    "g.add_experiment(e1)\n",
    "g.add_experiment(e2)    \n",
    "\n",
    "g.link_to_global(0,\"dilution_heat\",\"X\")\n",
    "g.link_to_global(1,\"dilution_heat\",\"X\")\n",
    "\n",
    "g.link_to_global(0,\"dilution_intercept\",\"Y\")\n",
    "g.link_to_global(1,\"dilution_intercept\",\"Y\")\n",
    "\n",
    "#g.unlink_from_global(0,\"dilution_heat\",\"X\")\n",
    "#g.unlink_from_global(1,\"dilution_heat\",\"X\")\n",
    "\n",
    "\n",
    "print(g.param_names)\n",
    "print(g._global_param_alias_mapping)\n",
    "\n",
    "print(g._experiment_list[0].model.param_aliases)\n",
    "print(g._experiment_list[1].model.param_aliases)\n",
    "\n",
    "g.remove_experiment(0)\n",
    "\n",
    "print(g._global_param_alias_mapping)\n",
    "print(g.param_names)\n",
    "\n",
    "    \n",
    "#f = pytc.GlobalFit({\"K\":1e6,\n",
    "#                    \"dH\":-4000,\n",
    "#                    \"fx_competent\":1.0,\n",
    "#                    \"dilution_heat\":0.0,\n",
    "#                    \"dilution_intercept\":0.0})\n",
    "\n",
    "#f.add_experiment(e1)\n",
    "\n",
    "\n",
    "#f.add_experiment(e2)\n",
    "#another_wrapper = Interface(f)\n"
   ]
  },
  {
   "cell_type": "code",
   "execution_count": 14,
   "metadata": {
    "collapsed": false,
    "scrolled": false
   },
   "outputs": [
    {
     "name": "stdout",
     "output_type": "stream",
     "text": [
      "{'dH3': 10346359041.150944, 'fx_competent': 0.6054672046885865, 'dH2': -683.14832846007039, 'dH1': 4140.7067074298438, 'beta1': 33494239.661605757, 'dilution_heat': -75218.642783816642, 'beta3': 10916966849.293322, 'beta2': 276351141815.1015}\n"
     ]
    },
    {
     "data": {
      "image/png": "[encoded data removed]",
      "text/plain": [
       "<matplotlib.figure.Figure at 0x7f94cc36e518>"
      ]
     },
     "metadata": {},
     "output_type": "display_data"
    }
   ],
   "source": [
    "\n",
    "f = pytc.GlobalFit({\"K\":1e6,\"beta1\":1e6,\"beta2\":1e6,\"beta3\":1e6,\n",
    "                    \"dH\":-4000,\"dH1\":-4000,\"dH2\":-4000,\"dH3\":1e6,\n",
    "                    \"fx_competent\":1.0,\n",
    "                    \"dilution_heat\":0.0,\n",
    "                    \"dilution_intercept\":0.0})\n",
    "\n",
    "e1 = pytc.ITCExperiment(\"test-data/wacky-double-1.DH\",pytc.models.BindingPolynomial,num_sites=3)\n",
    "f.add_experiment(e1)\n",
    "\n",
    "#e2 = pytc.ITCExperiment(\"test-data/real-blank-match.DH\",pytc.models.BindingPolynomial,num_sites=1) \n",
    "#f.add_experiment(e2)\n",
    "\n",
    "#e3 = pytc.ITCExperiment(\"test-data/real-blank-match.DH\",pytc.models.SingleSite)\n",
    "#f.add_experiment(e3)\n",
    "\n",
    "\n",
    "f.fit()\n",
    "f.plot()\n",
    "print(f.fit_param)"
   ]
  },
  {
   "cell_type": "code",
   "execution_count": 4,
   "metadata": {
    "collapsed": false
   },
   "outputs": [
    {
     "name": "stdout",
     "output_type": "stream",
     "text": [
      "{'fx2': 1.6084570617361482, 'K': 28211.880712320366, 'dH': -5838.5694163412472, 'dil2': -5511.9332625484158}\n"
     ]
    },
    {
     "name": "stderr",
     "output_type": "stream",
     "text": [
      "/home/harmsm/Desktop/pytc/pytc/models/single_site.py:57: RuntimeWarning: invalid value encountered in sqrt\n",
      "  ST = (b - np.sqrt((b)**2 - 4*S_conc_corr*self._T_conc))/2\n"
     ]
    },
    {
     "data": {
      "image/png": "[encoded data removed]",
      "text/plain": [
       "<matplotlib.figure.Figure at 0x7f94cc337cf8>"
      ]
     },
     "metadata": {},
     "output_type": "display_data"
    }
   ],
   "source": [
    "\n",
    "# Set up the global fit with parameter guesses\n",
    "fitter = pytc.GlobalFit({\"beta1\":1e6,\"dH1\":-4000,\"beta2\":-10,\"dH2\":-2000,\"fx_competent\":1.0, \"dilution_heat\":0.0,\n",
    "                         \"K\":1e6,\"dH\":-2000,\"fx2\":1.0,\"dil2\":0.0})\n",
    "\n",
    "# Load in an experiment\n",
    "#e1 = pytc.ITCExperiment(\"test-data/wacky-double-1.DH\",pytc.models.BindingPolynomial,num_sites=1)#pytc.models.SingleSite) #pytc.models.BindingPolynomial,num_sites=1)\n",
    "\n",
    "# Associate the global K1 parameter with the local KA parameter, etc.\n",
    "#fitter.add_experiment(e1) #,dilution_heat=10000.0)\n",
    "\n",
    "# Load in another experiment\n",
    "e2 = pytc.ITCExperiment(\"test-data/hA5NCX1TESCaTCEP.DH\",pytc.models.SingleSite)\n",
    "fitter.add_experiment(e2,{\"K\":\"K\",\n",
    "                          \"dH\":\"dH\",\n",
    "                          \"fx2\":\"fx_competent\",\n",
    "                          \"dil2\":\"dilution_heat\"})\n",
    "\n",
    "# Do the global fit\n",
    "fitter.fit()\n",
    "\n",
    "# Plot the fit\n",
    "fitter.plot()\n",
    "\n",
    "# Print out the final fit parameters\n",
    "print(fitter.fit_param)"
   ]
  },
  {
   "cell_type": "code",
   "execution_count": null,
   "metadata": {
    "collapsed": true
   },
   "outputs": [],
   "source": []
  },
  {
   "cell_type": "code",
   "execution_count": null,
   "metadata": {
    "collapsed": true
   },
   "outputs": [],
   "source": []
  },
  {
   "cell_type": "code",
   "execution_count": null,
   "metadata": {
    "collapsed": true
   },
   "outputs": [],
   "source": []
  }
 ],
 "metadata": {
  "kernelspec": {
   "display_name": "Python 3",
   "language": "python",
   "name": "python3"
  },
  "language_info": {
   "codemirror_mode": {
    "name": "ipython",
    "version": 3
   },
   "file_extension": ".py",
   "mimetype": "text/x-python",
   "name": "python",
   "nbconvert_exporter": "python",
   "pygments_lexer": "ipython3",
   "version": "3.4.3+"
  }
 },
 "nbformat": 4,
 "nbformat_minor": 0
}
