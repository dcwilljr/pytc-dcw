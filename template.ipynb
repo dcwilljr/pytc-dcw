{
 "cells": [
  {
   "cell_type": "code",
   "execution_count": 4,
   "metadata": {
    "collapsed": false
   },
   "outputs": [],
   "source": [
    "import pytc\n",
    "%matplotlib inline\n",
    "\n",
    "# libraries for making pretty sliders\n",
    "from IPython.html import widgets\n",
    "from IPython.html.widgets import interactive\n",
    "from IPython.display import display\n",
    "\n",
    "\n",
    "class Interface:\n",
    "    \n",
    "    def __init__(self,fitter):\n",
    "        \"\"\"\n",
    "        \"\"\"\n",
    "        \n",
    "        self._sliders = {}\n",
    "        self._fitter = fitter\n",
    "        self._build_interface()\n",
    "        \n",
    "    def _build_interface(self):\n",
    "        \"\"\"\n",
    "        \"\"\"\n",
    "    \n",
    "        for p in self._fitter.param_names:\n",
    "            \n",
    "            \n",
    "            g = abs(self._fitter._param_guesses[p])\n",
    "            \n",
    "            if g == 0:\n",
    "                g_min = -1\n",
    "                g_max = 1\n",
    "                g_step = 1/100\n",
    "            else:\n",
    "                g_min = -g\n",
    "                g_max = g\n",
    "                g_step = 2*abs(g)/100\n",
    "            \n",
    "            self._sliders[p] = widgets.FloatSlider(min=g_min,max=g_max,step=g_step,value=g)\n",
    "            \n",
    "        w = widgets.interactive(self._update,**self._sliders)\n",
    "                        \n",
    "        display(w)\n",
    "        \n",
    "        btn = widgets.Button(description=\"Show Fit\")\n",
    "        btn.on_click(lambda x: self.get_param())\n",
    "        display(btn)\n",
    "\n",
    "    def _update(self,**kwargs):\n",
    "        \"\"\"\n",
    "        \"\"\"\n",
    "   \n",
    "        self._fitter.update_guesses(kwargs)\n",
    "        self._fitter.fit()\n",
    "        self._fitter.plot()\n",
    "        print(self._fitter.fit_param)\n",
    "        \n",
    "    def get_param(self):\n",
    "        \n",
    "        print(self._fitter.fit_param)\n",
    "        \n",
    "       "
   ]
  },
  {
   "cell_type": "code",
   "execution_count": 5,
   "metadata": {
    "collapsed": false,
    "scrolled": true
   },
   "outputs": [
    {
     "ename": "TypeError",
     "evalue": "__init__() takes 1 positional argument but 2 were given",
     "output_type": "error",
     "traceback": [
      "\u001b[1;31m---------------------------------------------------------------------------\u001b[0m",
      "\u001b[1;31mTypeError\u001b[0m                                 Traceback (most recent call last)",
      "\u001b[1;32m<ipython-input-5-f69e69758d6e>\u001b[0m in \u001b[0;36m<module>\u001b[1;34m()\u001b[0m\n\u001b[0;32m      3\u001b[0m                     \u001b[1;34m\"fx_competent\"\u001b[0m\u001b[1;33m:\u001b[0m\u001b[1;36m1.0\u001b[0m\u001b[1;33m,\u001b[0m\u001b[1;33m\u001b[0m\u001b[0m\n\u001b[0;32m      4\u001b[0m                     \u001b[1;34m\"dilution_heat\"\u001b[0m\u001b[1;33m:\u001b[0m\u001b[1;36m0.0\u001b[0m\u001b[1;33m,\u001b[0m\u001b[1;33m\u001b[0m\u001b[0m\n\u001b[1;32m----> 5\u001b[1;33m                     \"dilution_intercept\":0.0})\n\u001b[0m\u001b[0;32m      6\u001b[0m \u001b[1;33m\u001b[0m\u001b[0m\n\u001b[0;32m      7\u001b[0m \u001b[0me1\u001b[0m \u001b[1;33m=\u001b[0m \u001b[0mpytc\u001b[0m\u001b[1;33m.\u001b[0m\u001b[0mITCExperiment\u001b[0m\u001b[1;33m(\u001b[0m\u001b[1;34m\"test-data/160625_750uMPeptide100mMAmAc1mMTCEP1mMCa.DH\"\u001b[0m\u001b[1;33m,\u001b[0m\u001b[0mpytc\u001b[0m\u001b[1;33m.\u001b[0m\u001b[0mmodels\u001b[0m\u001b[1;33m.\u001b[0m\u001b[0mBlank\u001b[0m\u001b[1;33m)\u001b[0m\u001b[1;33m\u001b[0m\u001b[0m\n",
      "\u001b[1;31mTypeError\u001b[0m: __init__() takes 1 positional argument but 2 were given"
     ]
    }
   ],
   "source": [
    "f = pytc.GlobalFit({\"K\":1e6,\n",
    "                    \"dH\":-4000,\n",
    "                    \"fx_competent\":1.0,\n",
    "                    \"dilution_heat\":0.0,\n",
    "                    \"dilution_intercept\":0.0})\n",
    "\n",
    "e1 = pytc.ITCExperiment(\"test-data/160625_750uMPeptide100mMAmAc1mMTCEP1mMCa.DH\",pytc.models.Blank)\n",
    "f.add_experiment(e1)\n",
    "\n",
    "e2 = pytc.ITCExperiment(\"test-data/160624_67uMProtein750uMPeptide100mMAmAc1mMTCEP1mMCa.DH\",pytc.models.SingleSite)\n",
    "f.add_experiment(e2)\n",
    "\n",
    "\n",
    "\n",
    "\n",
    "another_wrapper = Interface(f)"
   ]
  },
  {
   "cell_type": "code",
   "execution_count": null,
   "metadata": {
    "collapsed": true
   },
   "outputs": [],
   "source": []
  }
 ],
 "metadata": {
  "kernelspec": {
   "display_name": "Python 3",
   "language": "python",
   "name": "python3"
  },
  "language_info": {
   "codemirror_mode": {
    "name": "ipython",
    "version": 3
   },
   "file_extension": ".py",
   "mimetype": "text/x-python",
   "name": "python",
   "nbconvert_exporter": "python",
   "pygments_lexer": "ipython3",
   "version": "3.4.3+"
  }
 },
 "nbformat": 4,
 "nbformat_minor": 0
}
