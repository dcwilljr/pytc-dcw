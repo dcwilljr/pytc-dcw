{
 "cells": [
  {
   "cell_type": "code",
   "execution_count": 5,
   "metadata": {
    "collapsed": false
   },
   "outputs": [],
   "source": [
    "import pytc\n",
    "%matplotlib inline\n",
    "\n",
    "# libraries for making pretty sliders\n",
    "from IPython.html import widgets\n",
    "from IPython.html.widgets import interactive\n",
    "from IPython.display import display\n",
    "\n",
    "\n",
    "class Interface:\n",
    "    \n",
    "    def __init__(self,fitter):\n",
    "        \"\"\"\n",
    "        \"\"\"\n",
    "        \n",
    "        self._sliders = {}\n",
    "        self._fitter = fitter\n",
    "        self._build_interface()\n",
    "        \n",
    "    def _build_interface(self):\n",
    "        \"\"\"\n",
    "        \"\"\"\n",
    "    \n",
    "        for p in self._fitter.param_names:\n",
    "            \n",
    "            \n",
    "            g = abs(self._fitter._param_guesses[p])\n",
    "            \n",
    "            if g == 0:\n",
    "                g_min = -1\n",
    "                g_max = 1\n",
    "                g_step = 1/100\n",
    "            else:\n",
    "                g_min = -g\n",
    "                g_max = g\n",
    "                g_step = 2*abs(g)/100\n",
    "            \n",
    "            self._sliders[p] = widgets.FloatSlider(min=g_min,max=g_max,step=g_step,value=g)\n",
    "            \n",
    "        w = widgets.interactive(self._update,**self._sliders)\n",
    "                        \n",
    "        display(w)\n",
    "        \n",
    "        btn = widgets.Button(description=\"Show Fit\")\n",
    "        btn.on_click(lambda x: self.get_param())\n",
    "        display(btn)\n",
    "\n",
    "    def _update(self,**kwargs):\n",
    "        \"\"\"\n",
    "        \"\"\"\n",
    "   \n",
    "        self._fitter.update_guesses(kwargs)\n",
    "        self._fitter.fit()\n",
    "        self._fitter.plot()\n",
    "        print(self._fitter.fit_param)\n",
    "        \n",
    "    def get_param(self):\n",
    "        \n",
    "        print(self._fitter.fit_param)\n",
    "        \n",
    "       "
   ]
  },
  {
   "cell_type": "code",
   "execution_count": 6,
   "metadata": {
    "collapsed": false,
    "scrolled": true
   },
   "outputs": [
    {
     "name": "stdout",
     "output_type": "stream",
     "text": [
      "{'dilution_heat': -3025.7919868421586, 'fx_competent': 1.077187057687548, 'K': 11189.805874943406, 'dH': -5972.1108455343101, 'dilution_intercept': 1.0529340669225418}\n"
     ]
    },
    {
     "data": {
      "image/png": "[encoded data removed]",
      "text/plain": [
       "<matplotlib.figure.Figure at 0x7f76529ce780>"
      ]
     },
     "metadata": {},
     "output_type": "display_data"
    }
   ],
   "source": [
    "f = pytc.GlobalFit({\"K\":1e6,\n",
    "                    \"dH\":-4000,\n",
    "                    \"fx_competent\":1.0,\n",
    "                    \"dilution_heat\":0.0,\n",
    "                    \"dilution_intercept\":0.0})\n",
    "\n",
    "e1 = pytc.ITCExperiment(\"test-data/blank.DH\",pytc.models.Blank)\n",
    "f.add_experiment(e1)\n",
    "\n",
    "e2 = pytc.ITCExperiment(\"test-data/real-blank-match.DH\",pytc.models.SingleSite)\n",
    "f.add_experiment(e2)\n",
    "\n",
    "\n",
    "\n",
    "\n",
    "another_wrapper = Interface(f)"
   ]
  },
  {
   "cell_type": "code",
   "execution_count": null,
   "metadata": {
    "collapsed": true
   },
   "outputs": [],
   "source": []
  }
 ],
 "metadata": {
  "kernelspec": {
   "display_name": "Python 3",
   "language": "python",
   "name": "python3"
  },
  "language_info": {
   "codemirror_mode": {
    "name": "ipython",
    "version": 3
   },
   "file_extension": ".py",
   "mimetype": "text/x-python",
   "name": "python",
   "nbconvert_exporter": "python",
   "pygments_lexer": "ipython3",
   "version": "3.4.3+"
  }
 },
 "nbformat": 4,
 "nbformat_minor": 0
}
